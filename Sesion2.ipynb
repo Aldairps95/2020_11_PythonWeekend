{
  "nbformat": 4,
  "nbformat_minor": 0,
  "metadata": {
    "colab": {
      "name": "Sesion2.ipynb",
      "provenance": [],
      "authorship_tag": "ABX9TyMf5nOJSI+tYUQePp1wYCnb",
      "include_colab_link": true
    },
    "kernelspec": {
      "name": "python3",
      "display_name": "Python 3"
    },
    "language_info": {
      "name": "python"
    }
  },
  "cells": [
    {
      "cell_type": "markdown",
      "metadata": {
        "id": "view-in-github",
        "colab_type": "text"
      },
      "source": [
        "<a href=\"https://colab.research.google.com/github/Aldairps95/2020_11_PythonWeekend/blob/main/Sesion2.ipynb\" target=\"_parent\"><img src=\"https://colab.research.google.com/assets/colab-badge.svg\" alt=\"Open In Colab\"/></a>"
      ]
    },
    {
      "cell_type": "markdown",
      "metadata": {
        "id": "EG2_dUJXeeci"
      },
      "source": [
        "# Primer Script en Python "
      ]
    },
    {
      "cell_type": "code",
      "metadata": {
        "colab": {
          "base_uri": "https://localhost:8080/"
        },
        "id": "5XPRzK6Fi1Ku",
        "outputId": "0d42deda-edcc-49a5-b02c-90036962ae05"
      },
      "source": [
        "x = 2 \n",
        "x = x + 2 \n",
        "print (x)"
      ],
      "execution_count": 1,
      "outputs": [
        {
          "output_type": "stream",
          "text": [
            "4\n"
          ],
          "name": "stdout"
        }
      ]
    },
    {
      "cell_type": "code",
      "metadata": {
        "colab": {
          "base_uri": "https://localhost:8080/"
        },
        "id": "VPWIuqRIi-3t",
        "outputId": "ef06341d-2ff6-4fcb-a90e-a44002f99299"
      },
      "source": [
        "x = 5 \n",
        "if x < 10 :\n",
        "  print(\"Mas pequeño\")\n",
        "if x > 10 :\n",
        "  print(\"Mas grande\")\n",
        "\n"
      ],
      "execution_count": 3,
      "outputs": [
        {
          "output_type": "stream",
          "text": [
            "Mas pequeño\n"
          ],
          "name": "stdout"
        }
      ]
    },
    {
      "cell_type": "code",
      "metadata": {
        "colab": {
          "base_uri": "https://localhost:8080/"
        },
        "id": "eWJ5_VOxj-RI",
        "outputId": "0925e350-0d01-4501-c187-25572e298032"
      },
      "source": [
        "n = 5 \n",
        "\n",
        "while  n > 0 : \n",
        "  print(n)\n",
        "  n = n - 1 # Linea de identacion\n",
        "\n",
        "print (\"BOOOOOM\")"
      ],
      "execution_count": 8,
      "outputs": [
        {
          "output_type": "stream",
          "text": [
            "5\n",
            "4\n",
            "3\n",
            "2\n",
            "1\n",
            "BOOOOOM\n"
          ],
          "name": "stdout"
        }
      ]
    },
    {
      "cell_type": "code",
      "metadata": {
        "colab": {
          "base_uri": "https://localhost:8080/"
        },
        "id": "pFZTK0NalG_C",
        "outputId": "19601d5c-525b-45f9-e636-bcec15e7fced"
      },
      "source": [
        "print(123)"
      ],
      "execution_count": 10,
      "outputs": [
        {
          "output_type": "stream",
          "text": [
            "123\n"
          ],
          "name": "stdout"
        }
      ]
    },
    {
      "cell_type": "code",
      "metadata": {
        "colab": {
          "base_uri": "https://localhost:8080/"
        },
        "id": "vqR8XgMKlJYV",
        "outputId": "f59da6d4-95d1-4db0-f37d-fbf29b28d2e3"
      },
      "source": [
        "print(\"Hola Mundo\")"
      ],
      "execution_count": 11,
      "outputs": [
        {
          "output_type": "stream",
          "text": [
            "Hola Mundo\n"
          ],
          "name": "stdout"
        }
      ]
    },
    {
      "cell_type": "code",
      "metadata": {
        "colab": {
          "base_uri": "https://localhost:8080/"
        },
        "id": "rG2s2BcxlLpl",
        "outputId": "093db718-c59d-41f7-8aec-945976b9d965"
      },
      "source": [
        "x = 12.2\n",
        "y = 14\n",
        "x "
      ],
      "execution_count": 14,
      "outputs": [
        {
          "output_type": "execute_result",
          "data": {
            "text/plain": [
              "12.2"
            ]
          },
          "metadata": {
            "tags": []
          },
          "execution_count": 14
        }
      ]
    },
    {
      "cell_type": "code",
      "metadata": {
        "colab": {
          "base_uri": "https://localhost:8080/"
        },
        "id": "GVdFU0xtldEu",
        "outputId": "f098023d-291e-4ada-a084-2247d779622d"
      },
      "source": [
        "x = 2 # Asignacion \n",
        "x = x + 2 # Expresion \n",
        "# Tambien hay funciones \n",
        "print (x)"
      ],
      "execution_count": 17,
      "outputs": [
        {
          "output_type": "stream",
          "text": [
            "4\n"
          ],
          "name": "stdout"
        }
      ]
    },
    {
      "cell_type": "code",
      "metadata": {
        "colab": {
          "base_uri": "https://localhost:8080/"
        },
        "id": "VABYf7w3l-up",
        "outputId": "d7001d43-399d-473a-8d3f-d0785c6f3295"
      },
      "source": [
        "x1q3z9ocd = 35.0\n",
        "x1q3z9afd = 12.50\n",
        "x1q3p9ocd =  x1q3z9ocd * x1q3z9afd\n",
        "print(x1q3p9ocd) "
      ],
      "execution_count": 24,
      "outputs": [
        {
          "output_type": "stream",
          "text": [
            "437.5\n"
          ],
          "name": "stdout"
        }
      ]
    },
    {
      "cell_type": "code",
      "metadata": {
        "colab": {
          "base_uri": "https://localhost:8080/"
        },
        "id": "NAEgCLFOmc0l",
        "outputId": "c1fb888b-a2ad-41fc-ac7d-fb689f679b14"
      },
      "source": [
        "a = 35.0\n",
        "b = 12.50\n",
        "c = a * b\n",
        "print(c)"
      ],
      "execution_count": 25,
      "outputs": [
        {
          "output_type": "stream",
          "text": [
            "437.5\n"
          ],
          "name": "stdout"
        }
      ]
    },
    {
      "cell_type": "code",
      "metadata": {
        "colab": {
          "base_uri": "https://localhost:8080/"
        },
        "id": "diVRcFsXmviC",
        "outputId": "f48a76cf-d536-4487-b401-a2d07c34cd3b"
      },
      "source": [
        "horas = 35.0\n",
        "tarifa = 12.50\n",
        "salario = horas * tarifa\n",
        "print(salario)"
      ],
      "execution_count": 26,
      "outputs": [
        {
          "output_type": "stream",
          "text": [
            "437.5\n"
          ],
          "name": "stdout"
        }
      ]
    },
    {
      "cell_type": "code",
      "metadata": {
        "colab": {
          "base_uri": "https://localhost:8080/"
        },
        "id": "FdVHTvWbm5r2",
        "outputId": "7362033e-3c2e-4eda-ddd2-a70ec90a5eab"
      },
      "source": [
        "x = 0.6\n",
        "y = 3.9 * x * (1-x)\n",
        "print (y)"
      ],
      "execution_count": 27,
      "outputs": [
        {
          "output_type": "stream",
          "text": [
            "0.9359999999999999\n"
          ],
          "name": "stdout"
        }
      ]
    },
    {
      "cell_type": "code",
      "metadata": {
        "colab": {
          "base_uri": "https://localhost:8080/"
        },
        "id": "ekaDktCynr4h",
        "outputId": "a2b846b3-4b68-456d-f8e2-1eed280c8461"
      },
      "source": [
        "# Sumar numero\n",
        "inp = input(\"Ingrese numero: \") # Hay que tomar que cuenta que suele capturarlo como texto por eso se le transforma a numero\n",
        "usf = int(inp) + 1\n",
        "print( \"Numero sumado 1 ->\", usf)"
      ],
      "execution_count": 29,
      "outputs": [
        {
          "output_type": "stream",
          "text": [
            "Ingrese numero: 3\n",
            "Numero sumado 1 -> 4\n"
          ],
          "name": "stdout"
        }
      ]
    },
    {
      "cell_type": "markdown",
      "metadata": {
        "id": "DTVyEN3CpZFz"
      },
      "source": [
        "# Escriba un programa  para calcular  el sueldo  de un usuario en base  a las horas  y la tarifa por hora "
      ]
    },
    {
      "cell_type": "code",
      "metadata": {
        "colab": {
          "base_uri": "https://localhost:8080/"
        },
        "id": "ZDSluI0foo82",
        "outputId": "42af1d8e-828c-489e-f619-c34d7839f497"
      },
      "source": [
        "# Ingresar por pantalla (por teclado) el numero de horas  trabajadas  y el costo por hora  e imprimir el salario que es la multiplicacion de h * ch\n",
        "horas = input(\"Ingrese numero de horas: \") \n",
        "costo_hora = input(\"Ingrese el costo de la hora: \")\n",
        "salario = int(horas) * int(costo_hora)\n",
        "print( \"El salario es ->\", salario)"
      ],
      "execution_count": 31,
      "outputs": [
        {
          "output_type": "stream",
          "text": [
            "Ingrese numero de horas: 8\n",
            "Ingrese el costo de la hora: 10\n",
            "El salario es -> 80\n"
          ],
          "name": "stdout"
        }
      ]
    },
    {
      "cell_type": "markdown",
      "metadata": {
        "id": "G8G-SFWDqvpi"
      },
      "source": [
        "1) Pedir dos numeros enteros  por pantalla  y guardarlos en dos variables. Sumarlos, restalos, multiplicarlos, hacer la operacion de modulo y mostrar el resultado de cada operacion por pantalla "
      ]
    },
    {
      "cell_type": "code",
      "metadata": {
        "colab": {
          "base_uri": "https://localhost:8080/"
        },
        "id": "mPZARXMxrAmf",
        "outputId": "de7a096c-54ae-4d92-80e7-617d12fc77bd"
      },
      "source": [
        "num_1 = input(\"Ingresar un numero: \")\n",
        "num_2 = input(\"Ingresar otro numero: \")\n",
        "\n",
        "x= int(num_1)\n",
        "y= int(num_2)\n",
        "\n",
        "suma = x+y\n",
        "resta = x-y\n",
        "mult = x*y\n",
        "mod = x%y\n",
        "print(\"La suma es -> \", suma)\n",
        "print(\"La resta es -> \", resta)\n",
        "print(\"La multiplicacion es -> \", mult)\n",
        "print(\"El modulo es -> \", mod)\n",
        "\n"
      ],
      "execution_count": 33,
      "outputs": [
        {
          "output_type": "stream",
          "text": [
            "Ingresar un numero: 6\n",
            "Ingresar otro numero: 2\n",
            "La suma es ->  8\n",
            "La resta es ->  4\n",
            "La multiplicacion es ->  12\n",
            "El modulo es ->  0\n"
          ],
          "name": "stdout"
        }
      ]
    },
    {
      "cell_type": "code",
      "metadata": {
        "id": "b0wqqf1BrXR9"
      },
      "source": [
        "a = 10 \n",
        "b = 4 \n",
        "c = 8 \n",
        "d = 40 "
      ],
      "execution_count": 35,
      "outputs": []
    },
    {
      "cell_type": "code",
      "metadata": {
        "id": "12U922b_t7yp"
      },
      "source": [
        "resultado4 = a > b and c > d  \n",
        "resultado5 = a > c or d < b "
      ],
      "execution_count": 37,
      "outputs": []
    },
    {
      "cell_type": "code",
      "metadata": {
        "colab": {
          "base_uri": "https://localhost:8080/"
        },
        "id": "aYPXgdXquL6z",
        "outputId": "f426faae-395b-4cd5-e670-1913c12a508c"
      },
      "source": [
        "print(resultado4)"
      ],
      "execution_count": 38,
      "outputs": [
        {
          "output_type": "stream",
          "text": [
            "False\n"
          ],
          "name": "stdout"
        }
      ]
    },
    {
      "cell_type": "code",
      "metadata": {
        "colab": {
          "base_uri": "https://localhost:8080/"
        },
        "id": "59ukyKFEuTbc",
        "outputId": "5c2e99c8-5b27-4002-dabd-c39ca67f06ef"
      },
      "source": [
        "print(resultado5)"
      ],
      "execution_count": 39,
      "outputs": [
        {
          "output_type": "stream",
          "text": [
            "True\n"
          ],
          "name": "stdout"
        }
      ]
    },
    {
      "cell_type": "markdown",
      "metadata": {
        "id": "21HvG1EGuzo1"
      },
      "source": [
        "2) Construir y mostrar una tabla de verdad de las operaciones and y or con los valores solicitados \n"
      ]
    },
    {
      "cell_type": "markdown",
      "metadata": {
        "id": "g3_1wb1iwGzU"
      },
      "source": [
        "### TABLA DE VERDAD DE **AND**"
      ]
    },
    {
      "cell_type": "code",
      "metadata": {
        "colab": {
          "base_uri": "https://localhost:8080/"
        },
        "id": "eLTFXWeDuUz4",
        "outputId": "b1b5482d-ecf9-4d76-c436-2777d746b4f9"
      },
      "source": [
        "print(str(x==x) + \" and \" + str(x==x) + \" -> \" + str(x==x))\n",
        "print(str(y==y) + \" and \" + str(x==y) + \" -> \" + str(x==y))\n",
        "print(str(x==y) + \" and \" + str(x==x) + \" -> \" + str(x==y))\n",
        "print(str(x==y) + \" and \" + str(x==y) + \" -> \" + str(x==y))\n"
      ],
      "execution_count": 46,
      "outputs": [
        {
          "output_type": "stream",
          "text": [
            "True and True -> True\n",
            "True and False -> False\n",
            "False and True -> False\n",
            "False and False -> False\n"
          ],
          "name": "stdout"
        }
      ]
    },
    {
      "cell_type": "markdown",
      "metadata": {
        "id": "y_SIrRcTwRrW"
      },
      "source": [
        "### TABLA DE VERDAD DE **OR**"
      ]
    },
    {
      "cell_type": "code",
      "metadata": {
        "colab": {
          "base_uri": "https://localhost:8080/"
        },
        "id": "5eT_qoKSvuYz",
        "outputId": "1fbe07bf-b3d5-4c78-af8d-dce11fb273a6"
      },
      "source": [
        "print(str(x==x) + \" and \" + str(x==x) + \" -> \" + str(x==x))\n",
        "print(str(y==y) + \" and \" + str(x==y) + \" -> \" + str(x==x))\n",
        "print(str(x==y) + \" and \" + str(x==x) + \" -> \" + str(x==x))\n",
        "print(str(x==y) + \" and \" + str(x==y) + \" -> \" + str(x==y))"
      ],
      "execution_count": 47,
      "outputs": [
        {
          "output_type": "stream",
          "text": [
            "True and True -> True\n",
            "True and False -> True\n",
            "False and True -> True\n",
            "False and False -> False\n"
          ],
          "name": "stdout"
        }
      ]
    },
    {
      "cell_type": "markdown",
      "metadata": {
        "id": "3lT-IJyKxNLE"
      },
      "source": [
        "Escribir un programa que dado 1 numero, imprime la tabla de multiplicar hasta el 10 "
      ]
    },
    {
      "cell_type": "code",
      "metadata": {
        "colab": {
          "base_uri": "https://localhost:8080/"
        },
        "id": "7YL5Z9pQxYwT",
        "outputId": "2d28ec49-5062-4f7a-96b5-f499e1f025f0"
      },
      "source": [
        "y = input( \"Ingrese numero entre para hacer  la tabla de multiplicar: \")\n",
        "y = int(y)\n",
        "x = 1\n",
        "\n",
        "while(x<=y):\n",
        "  print(x*y)\n",
        "  x=x+1"
      ],
      "execution_count": 52,
      "outputs": [
        {
          "output_type": "stream",
          "text": [
            "Ingrese numero entre para hacer  la tabla de multiplicar: 5\n",
            "5\n",
            "10\n",
            "15\n",
            "20\n",
            "25\n"
          ],
          "name": "stdout"
        }
      ]
    },
    {
      "cell_type": "code",
      "metadata": {
        "id": "4lJrhOZ7x_It"
      },
      "source": [
        "\n"
      ],
      "execution_count": null,
      "outputs": []
    },
    {
      "cell_type": "code",
      "metadata": {
        "id": "j57lAZ_0x1MR"
      },
      "source": [
        ""
      ],
      "execution_count": null,
      "outputs": []
    }
  ]
}